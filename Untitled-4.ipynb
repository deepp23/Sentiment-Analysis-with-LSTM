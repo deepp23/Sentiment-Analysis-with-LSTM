{
 "cells": [
  {
   "cell_type": "code",
   "execution_count": null,
   "id": "b125b3fe-e32a-490f-8d89-fd8e1e3116b6",
   "metadata": {},
   "outputs": [],
   "source": [
    "pip install pandas sentence_transformers"
   ]
  },
  {
   "cell_type": "code",
   "execution_count": 19,
   "id": "8d805a77-daad-4a95-b64f-43528bc4d4de",
   "metadata": {},
   "outputs": [],
   "source": [
    "import torch\n",
    "import torch.nn as nn\n",
    "import torch.optim as optim\n",
    "import pandas as pd\n",
    "import re\n",
    "from sklearn.model_selection import train_test_split\n",
    "from torch.utils.data import DataLoader, TensorDataset\n",
    "from sentence_transformers import SentenceTransformer\n",
    "from transformers import AutoTokenizer\n"
   ]
  },
  {
   "cell_type": "code",
   "execution_count": 3,
   "id": "b992f539-e21d-47c0-b25b-403a29aea189",
   "metadata": {},
   "outputs": [],
   "source": [
    "data = pd.read_csv('IMDB Dataset.csv')\n",
    "data['sentiment'] = data['sentiment'].map({'positive': 1, 'negative': 0})\n",
    "data['review'] = data['review'].apply(lambda x: x.lower())\n",
    "data['review'] = data['review'].apply(lambda x: re.sub('[^a-zA-z0-9\\s]','',x))\n",
    "data['review'] = data['review'].apply(str)"
   ]
  },
  {
   "cell_type": "code",
   "execution_count": null,
   "id": "462e20ba-d6fa-4d64-8bc9-4fd5bc384438",
   "metadata": {},
   "outputs": [],
   "source": [
    "sentence_model = SentenceTransformer('distilbert-base-nli-stsb-quora-ranking')\n",
    "reviews = data['review'].tolist()\n",
    "sentiments = data['sentiment'].tolist()\n",
    "numerical_reviews = sentence_model.encode(reviews)\n",
    "x_train, x_test, y_train, y_test = train_test_split(numerical_reviews, sentiments, test_size=0.2, random_state=42)"
   ]
  },
  {
   "cell_type": "code",
   "execution_count": 7,
   "id": "26256f3f-3dfd-4583-bef7-7950bbe74eef",
   "metadata": {},
   "outputs": [],
   "source": [
    "x_train = torch.tensor(x_train)\n",
    "x_test = torch.tensor(x_test)\n",
    "y_train = torch.tensor(y_train)\n",
    "y_test = torch.tensor(y_test)\n",
    "train_dataset = TensorDataset(x_train, y_train)\n",
    "test_dataset = TensorDataset(x_test, y_test)\n",
    "train_loader = DataLoader(train_dataset, batch_size=32, shuffle=True)\n",
    "test_loader = DataLoader(test_dataset, batch_size=32)"
   ]
  },
  {
   "cell_type": "code",
   "execution_count": 12,
   "id": "aea0dd85-681d-4306-97f6-9b4562829f5e",
   "metadata": {},
   "outputs": [],
   "source": [
    "class Sentiment(nn.Module):\n",
    "    def __init__(self, input_dim, hidden_dim, output_dim, n_layers, dropout=0.5):\n",
    "        super(Sentiment, self).__init__()\n",
    "        self.lstm = nn.LSTM(input_dim, hidden_dim, n_layers, dropout=dropout, batch_first=True)\n",
    "        self.dropout = nn.Dropout(dropout)\n",
    "        self.fc = nn.Linear(hidden_dim, output_dim)\n",
    "\n",
    "    def forward(self, inputs):\n",
    "        inputs = inputs.unsqueeze(1)\n",
    "        output, (hidden, cell) = self.lstm(inputs)\n",
    "        hidden = self.dropout(torch.cat((hidden[-1, :, :].unsqueeze(0),), dim=1))\n",
    "        return self.fc(hidden.squeeze(0))"
   ]
  },
  {
   "cell_type": "code",
   "execution_count": 13,
   "id": "7057bcd3-0bde-4280-9483-b228c0f6e15f",
   "metadata": {},
   "outputs": [],
   "source": [
    "input_dim, hidden_dim, output_dim, n_layers, dropout = 768, 256, 2, 1, 0.5\n",
    "model = Sentiment(input_dim, hidden_dim, output_dim, n_layers, dropout)\n",
    "device = torch.device('cuda' if torch.cuda.is_available() else 'cpu')\n",
    "model = model.to(device)\n",
    "criterion = nn.CrossEntropyLoss()\n",
    "optimizer = optim.Adam(model.parameters())"
   ]
  },
  {
   "cell_type": "code",
   "execution_count": null,
   "id": "d6595014-a72e-4f0a-944d-a999209e70cb",
   "metadata": {},
   "outputs": [],
   "source": [
    "for epoch in range(10):\n",
    "    for inputs, labels in train_loader:\n",
    "        inputs = inputs.to(device)\n",
    "        labels = labels.to(device)\n",
    "        optimizer.zero_grad()\n",
    "        outputs = model(inputs)\n",
    "        loss = criterion(outputs, labels)\n",
    "        loss.backward()\n",
    "        optimizer.step()\n",
    "\n",
    "    print(f'Epoch {epoch+1}/{10}, Loss: {loss.item():.4f}')"
   ]
  },
  {
   "cell_type": "code",
   "execution_count": null,
   "id": "527f2c32-7446-489b-ad75-76212ece1f22",
   "metadata": {},
   "outputs": [],
   "source": [
    "model.eval()\n",
    "correct = 0\n",
    "total = 0\n",
    "with torch.no_grad():\n",
    "    for inputs, labels in test_loader:\n",
    "        inputs = inputs.to(device)\n",
    "        labels = labels.to(device)\n",
    "        outputs = model(inputs)\n",
    "        _, predicted = torch.max(outputs.data, 1)\n",
    "        total += labels.size(0)\n",
    "        correct += (predicted == labels).sum().item()\n",
    "\n",
    "accuracy = 100 * correct / total\n",
    "print(f'Test Accuracy: {accuracy:.2f}%')"
   ]
  },
  {
   "cell_type": "code",
   "execution_count": 35,
   "id": "2396f035-1efa-410a-9048-0a123fe7c99a",
   "metadata": {},
   "outputs": [
    {
     "name": "stdout",
     "output_type": "stream",
     "text": [
      "Negative sentiment\n"
     ]
    }
   ],
   "source": [
    "#inference\n",
    "input_text = \"I'm very angry at you\"\n",
    "encoded_input = torch.tensor(sentence_model.encode(input_text)).unsqueeze(0)  # Add batch dimension\n",
    "encoded_input = encoded_input.to(device)  # Move input to device if necessary\n",
    "\n",
    "with torch.no_grad():  \n",
    "    model.eval()  # Set the model to evaluation mode\n",
    "    output = model(encoded_input)  # Pass input through the model\n",
    "\n",
    "# Convert output to probabilities\n",
    "probabilities = torch.softmax(output, dim=1)\n",
    "\n",
    "# Get the predicted sentiment (assuming binary classification)\n",
    "predicted_sentiment = torch.argmax(probabilities, dim=1).item()\n",
    "\n",
    "# Print the predicted sentiment\n",
    "if predicted_sentiment == 1:\n",
    "    print(\"Positive sentiment\")\n",
    "else:\n",
    "    print(\"Negative sentiment\")\n",
    "\n"
   ]
  },
  {
   "cell_type": "code",
   "execution_count": null,
   "id": "05a2c355-6555-4b43-a590-66c9693bf4eb",
   "metadata": {},
   "outputs": [],
   "source": []
  }
 ],
 "metadata": {
  "kernelspec": {
   "display_name": "Python 3 (ipykernel)",
   "language": "python",
   "name": "python3"
  },
  "language_info": {
   "codemirror_mode": {
    "name": "ipython",
    "version": 3
   },
   "file_extension": ".py",
   "mimetype": "text/x-python",
   "name": "python",
   "nbconvert_exporter": "python",
   "pygments_lexer": "ipython3",
   "version": "3.10.12"
  }
 },
 "nbformat": 4,
 "nbformat_minor": 5
}
